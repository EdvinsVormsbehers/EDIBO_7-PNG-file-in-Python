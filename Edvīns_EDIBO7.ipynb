{
  "nbformat": 4,
  "nbformat_minor": 0,
  "metadata": {
    "colab": {
      "name": "Edvīns.EDIBO7.ipynb",
      "provenance": [],
      "authorship_tag": "ABX9TyO8i908f7WCbohJ99GbYaJK",
      "include_colab_link": true
    },
    "kernelspec": {
      "name": "python3",
      "display_name": "Python 3"
    },
    "language_info": {
      "name": "python"
    }
  },
  "cells": [
    {
      "cell_type": "markdown",
      "metadata": {
        "id": "view-in-github",
        "colab_type": "text"
      },
      "source": [
        "<a href=\"https://colab.research.google.com/github/EdvinsVormsbehers/EDIBO_7-PNG-file-in-Python/blob/main/Edv%C4%ABns_EDIBO7.ipynb\" target=\"_parent\"><img src=\"https://colab.research.google.com/assets/colab-badge.svg\" alt=\"Open In Colab\"/></a>"
      ]
    },
    {
      "cell_type": "markdown",
      "metadata": {
        "id": "Kq7E8opuMRTc"
      },
      "source": [
        "EDIBO Lesson 7 PNG file in Python"
      ]
    },
    {
      "cell_type": "markdown",
      "metadata": {
        "id": "JrPTA5swM70F"
      },
      "source": [
        "version 1"
      ]
    },
    {
      "cell_type": "code",
      "metadata": {
        "id": "HSrm9ZwjJsIW"
      },
      "source": [
        "import png\n",
        "\n",
        "width = 255\n",
        "height = 255\n",
        "img = []\n",
        "for y in range(height):\n",
        "    row = ()\n",
        "    for x in range(width):\n",
        "        row = row + (x, max(0, 255 - x - y), y)\n",
        "    img.append(row)\n",
        "with open('gradient.png', 'wb') as f:\n",
        "    w = png.Writer(width, height, greyscale=False)\n",
        "    w.write(f, img)"
      ],
      "execution_count": null,
      "outputs": []
    }
  ]
}