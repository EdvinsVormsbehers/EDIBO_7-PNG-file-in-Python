{
  "nbformat": 4,
  "nbformat_minor": 0,
  "metadata": {
    "colab": {
      "name": "Edvīns.EDIBO7.ipynb",
      "provenance": [],
      "authorship_tag": "ABX9TyNCfktLCk+qIzZaGIFvn7cG",
      "include_colab_link": true
    },
    "kernelspec": {
      "name": "python3",
      "display_name": "Python 3"
    },
    "language_info": {
      "name": "python"
    }
  },
  "cells": [
    {
      "cell_type": "markdown",
      "metadata": {
        "id": "view-in-github",
        "colab_type": "text"
      },
      "source": [
        "<a href=\"https://colab.research.google.com/github/EdvinsVormsbehers/EDIBO_7-PNG-file-in-Python/blob/main/Edv%C4%ABns_EDIBO7.ipynb\" target=\"_parent\"><img src=\"https://colab.research.google.com/assets/colab-badge.svg\" alt=\"Open In Colab\"/></a>"
      ]
    },
    {
      "cell_type": "markdown",
      "metadata": {
        "id": "Kq7E8opuMRTc"
      },
      "source": [
        "EDIBO Lesson 7 PNG file in Python"
      ]
    },
    {
      "cell_type": "markdown",
      "metadata": {
        "id": "JrPTA5swM70F"
      },
      "source": [
        "version 1"
      ]
    },
    {
      "cell_type": "code",
      "metadata": {
        "id": "HSrm9ZwjJsIW"
      },
      "source": [
        "import png\n",
        "\n",
        "width = 255\n",
        "height = 255\n",
        "img = []\n",
        "for y in range(height):\n",
        "    row = ()\n",
        "    for x in range(width):\n",
        "        row = row + (x, max(0, 255 - x - y), y)\n",
        "    img.append(row)\n",
        "with open('gradient.png', 'wb') as f:\n",
        "    w = png.Writer(width, height, greyscale=False)\n",
        "    w.write(f, img)"
      ],
      "execution_count": null,
      "outputs": []
    },
    {
      "cell_type": "markdown",
      "metadata": {
        "id": "M2HwIB9VO1Pb"
      },
      "source": [
        "version 2"
      ]
    },
    {
      "cell_type": "code",
      "metadata": {
        "id": "CyGxZXFIOZsY"
      },
      "source": [
        "import zlib\n",
        "import struct\n",
        "\n",
        "def makeGrayPNG(data, height = None, width = None):\n",
        "    def I1(value):\n",
        "        return struct.pack(\"!B\", value & (2**8-1))\n",
        "    def I4(value):\n",
        "        return struct.pack(\"!I\", value & (2**32-1))\n",
        "    # compute width&height from data if not explicit\n",
        "    if height is None:\n",
        "        height = len(data) # rows\n",
        "    if width is None:\n",
        "        width = 0\n",
        "        for row in data:\n",
        "            if width < len(row):\n",
        "                width = len(row)\n",
        "    # generate these chunks depending on image type\n",
        "    makeIHDR = True\n",
        "    makeIDAT = True\n",
        "    makeIEND = True\n",
        "    png = b\"\\x89\" + \"PNG\\r\\n\\x1A\\n\".encode('ascii')\n",
        "    if makeIHDR:\n",
        "        colortype = 0 # true gray image (no palette)\n",
        "        bitdepth = 8 # with one byte per pixel (0..255)\n",
        "        compression = 0 # zlib (no choice here)\n",
        "        filtertype = 0 # adaptive (each scanline seperately)\n",
        "        interlaced = 0 # no\n",
        "        IHDR = I4(width) + I4(height) + I1(bitdepth)\n",
        "        IHDR += I1(colortype) + I1(compression)\n",
        "        IHDR += I1(filtertype) + I1(interlaced)\n",
        "        block = \"IHDR\".encode('ascii') + IHDR\n",
        "        png += I4(len(IHDR)) + block + I4(zlib.crc32(block))\n",
        "    if makeIDAT:\n",
        "        raw = b\"\"\n",
        "        for y in xrange(height):\n",
        "            raw += b\"\\0\" # no filter for this scanline\n",
        "            for x in xrange(width):\n",
        "                c = b\"\\0\" # default black pixel\n",
        "                if y < len(data) and x < len(data[y]):\n",
        "                    c = I1(data[y][x])\n",
        "                raw += c\n",
        "        compressor = zlib.compressobj()\n",
        "        compressed = compressor.compress(raw)\n",
        "        compressed += compressor.flush() #!!\n",
        "        block = \"IDAT\".encode('ascii') + compressed\n",
        "        png += I4(len(compressed)) + block + I4(zlib.crc32(block))\n",
        "    if makeIEND:\n",
        "        block = \"IEND\".encode('ascii')\n",
        "        png += I4(0) + block + I4(zlib.crc32(block))\n",
        "    return png\n",
        "\n",
        "def _example():\n",
        "    with open(\"cross3x3.png\",\"wb\") as f:\n",
        "        f.write(makeGrayPNG([[0,255,0],[255,255,255],[0,255,0]]))"
      ],
      "execution_count": 3,
      "outputs": []
    }
  ]
}